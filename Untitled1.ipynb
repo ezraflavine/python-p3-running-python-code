{
  "nbformat": 4,
  "nbformat_minor": 0,
  "metadata": {
    "colab": {
      "provenance": [],
      "authorship_tag": "ABX9TyM+HjqNT4SmJZCT0B9yLUqe",
      "include_colab_link": true
    },
    "kernelspec": {
      "name": "python3",
      "display_name": "Python 3"
    },
    "language_info": {
      "name": "python"
    }
  },
  "cells": [
    {
      "cell_type": "markdown",
      "metadata": {
        "id": "view-in-github",
        "colab_type": "text"
      },
      "source": [
        "<a href=\"https://colab.research.google.com/github/ezraflavine/python-p3-running-python-code/blob/main/Untitled1.ipynb\" target=\"_parent\"><img src=\"https://colab.research.google.com/assets/colab-badge.svg\" alt=\"Open In Colab\"/></a>"
      ]
    },
    {
      "cell_type": "code",
      "source": [
        "# python program to demonstrate List\n",
        "list = ['mango', 'strawberry', 'orange', 'apple', 'banana']\n",
        "print(list)\n",
        "print(list[2:4])\n",
        "list[1] = 'grapes'\n",
        "print(list[1])\n"
      ],
      "metadata": {
        "colab": {
          "base_uri": "https://localhost:8080/"
        },
        "id": "CZcODsms-6sG",
        "outputId": "4362c541-f2ff-477b-df19-cd0e72dc537e"
      },
      "execution_count": null,
      "outputs": [
        {
          "output_type": "stream",
          "name": "stdout",
          "text": [
            "['mango', 'strawberry', 'orange', 'apple', 'banana']\n",
            "['orange', 'apple']\n",
            "grapes\n"
          ]
        }
      ]
    },
    {
      "cell_type": "code",
      "source": [
        "# Python p to demonstrate creation of Array\n",
        "# importing 'array' for array creations\n",
        "import array as arr\n",
        "\n",
        "#creating an array with integer type\n",
        "a = arr.array('i', [1,2,3])\n",
        "\n",
        "#printing original array\n",
        "print ('The new created array is :', end =' ')\n",
        "for i in range (0,3):\n",
        "    print (a[i], end =' ')\n",
        "print()\n",
        "\n",
        "\n",
        "\n"
      ],
      "metadata": {
        "colab": {
          "base_uri": "https://localhost:8080/"
        },
        "id": "I1qLNwFrBndM",
        "outputId": "635a3650-c55b-4d9e-c1d6-3a5036db3e50"
      },
      "execution_count": null,
      "outputs": [
        {
          "output_type": "stream",
          "name": "stdout",
          "text": [
            "The new created array is : 1 2 3 \n"
          ]
        }
      ]
    },
    {
      "cell_type": "code",
      "source": [
        "#creating an array with float types\n",
        "b = arr.array('d', [2.5, 3.2, 3.3])\n",
        "\n",
        "#printing original array\n",
        "print ('The new created array is :', end =' ')\n",
        "for i in range (0,3):\n",
        "    print (b[i], end =' ')"
      ],
      "metadata": {
        "colab": {
          "base_uri": "https://localhost:8080/"
        },
        "id": "M1mzk-hKDpM0",
        "outputId": "045d0471-401b-4a44-c52e-fede2a27b628"
      },
      "execution_count": null,
      "outputs": [
        {
          "output_type": "stream",
          "name": "stdout",
          "text": [
            "The new created array is : 2.5 3.2 3.3 "
          ]
        }
      ]
    },
    {
      "cell_type": "code",
      "source": [
        "# tuples are immutable and can store any type of data type\n",
        "tuple = ('orange', 'apple', 'banana')\n",
        "print(tuple)\n",
        "# we can access the items in the tuple by its index number\n",
        "print(tuple[2])"
      ],
      "metadata": {
        "colab": {
          "base_uri": "https://localhost:8080/"
        },
        "id": "Xbawi8ZqHfwO",
        "outputId": "bdb239b7-a96a-4aab-d77f-7be7424ee6df"
      },
      "execution_count": null,
      "outputs": [
        {
          "output_type": "stream",
          "name": "stdout",
          "text": [
            "('orange', 'apple', 'banana')\n",
            "banana\n"
          ]
        }
      ]
    },
    {
      "cell_type": "code",
      "source": [
        "#we can specify the range of the index by specifying\n",
        "#where to start wnd where to end\n",
        "print(tuple[0:2])"
      ],
      "metadata": {
        "colab": {
          "base_uri": "https://localhost:8080/"
        },
        "id": "KrsdQYenKf7n",
        "outputId": "8c104864-f5d3-41f5-8560-a8627855cd9d"
      },
      "execution_count": null,
      "outputs": [
        {
          "output_type": "stream",
          "name": "stdout",
          "text": [
            "('orange', 'apple')\n"
          ]
        }
      ]
    },
    {
      "cell_type": "code",
      "source": [
        "#Dictionary in Python\n",
        "#they have curly brackets {} they are also found in key:value pair\n",
        "Dict = {1: 'Geeks', 2: 'For', 3: 'Geeks'}\n",
        "print(Dict)\n",
        "\n",
        "#values in a dictionary can be of any data type and can be duplicated,\n",
        "#whereas keys cant be repeated and must be immutable.\n",
        "#creating a dict with integer key\n",
        "Dict = {1: 'Geeks', 2: 'For', 3: 'Geeks'}\n",
        "print('\\nDictionary with the use of Integer keys:')\n",
        "print(Dict)\n",
        "\n",
        "#Dictionary with the use of mixed keys\n",
        "Dict = {'Name': 'Geeks', 1: [1,2,3,4]}\n",
        "print('\\nDictionary with the use of Mixed Keys: ')\n",
        "print(Dict)\n",
        "\n"
      ],
      "metadata": {
        "colab": {
          "base_uri": "https://localhost:8080/"
        },
        "id": "X2W49-Isid7c",
        "outputId": "a9fedbd1-6a64-4dfe-e3bf-357da86a7558"
      },
      "execution_count": null,
      "outputs": [
        {
          "output_type": "stream",
          "name": "stdout",
          "text": [
            "{1: 'Geeks', 2: 'For', 3: 'Geeks'}\n",
            "\n",
            "Dictionary with the use of Integer keys:\n",
            "{1: 'Geeks', 2: 'For', 3: 'Geeks'}\n",
            "\n",
            "Dictionary with the use of Mixed Keys: \n",
            "{'Name': 'Geeks', 1: [1, 2, 3, 4]}\n"
          ]
        }
      ]
    },
    {
      "cell_type": "code",
      "execution_count": null,
      "metadata": {
        "colab": {
          "base_uri": "https://localhost:8080/"
        },
        "id": "4-2xba0e4xtp",
        "outputId": "22eb076c-ccc7-4a30-aaa0-6d4e72161c64"
      },
      "outputs": [
        {
          "output_type": "stream",
          "name": "stdout",
          "text": [
            "apple\n",
            "banana\n",
            "melon\n"
          ]
        }
      ],
      "source": [
        "fruits = ['apple', 'banana', 'melon']\n",
        "for item in fruits:\n",
        " print(item)\n",
        ""
      ]
    },
    {
      "cell_type": "code",
      "source": [
        "j=range(1,11)\n",
        "for x in j:\n",
        "  print(x)"
      ],
      "metadata": {
        "colab": {
          "base_uri": "https://localhost:8080/"
        },
        "id": "16mCqlp_5azz",
        "outputId": "7c1e25aa-f1d0-4939-afff-a701510ee612"
      },
      "execution_count": null,
      "outputs": [
        {
          "output_type": "stream",
          "name": "stdout",
          "text": [
            "1\n",
            "2\n",
            "3\n",
            "4\n",
            "5\n",
            "6\n",
            "7\n",
            "8\n",
            "9\n",
            "10\n"
          ]
        }
      ]
    },
    {
      "cell_type": "code",
      "source": [
        "count = 0\n",
        "while count < 5:\n",
        "  print(count)\n",
        "  count += 1"
      ],
      "metadata": {
        "id": "miYEMiRJ5yEd",
        "outputId": "0139a51d-2fc0-4450-e2e3-d942629cf73e",
        "colab": {
          "base_uri": "https://localhost:8080/"
        }
      },
      "execution_count": null,
      "outputs": [
        {
          "output_type": "stream",
          "name": "stdout",
          "text": [
            "0\n",
            "1\n",
            "2\n",
            "3\n",
            "4\n"
          ]
        }
      ]
    },
    {
      "cell_type": "code",
      "source": [],
      "metadata": {
        "id": "NKAGgtD___gU"
      },
      "execution_count": null,
      "outputs": []
    },
    {
      "cell_type": "code",
      "source": [],
      "metadata": {
        "id": "jbG8G8WVxhJW"
      },
      "execution_count": null,
      "outputs": []
    },
    {
      "cell_type": "code",
      "source": [],
      "metadata": {
        "id": "y6EHbHRWxnvn"
      },
      "execution_count": null,
      "outputs": []
    },
    {
      "cell_type": "code",
      "source": [],
      "metadata": {
        "id": "sqe_biCVuD1l"
      },
      "execution_count": null,
      "outputs": []
    },
    {
      "cell_type": "code",
      "source": [
        "#Logical Operators\n",
        "#and: and. Returns True if both statements are true.\n",
        "#or: or. Returns True if one of the two statements is true.\n",
        "#not: not. Coerces the data to its boolean equivalent, then reverses it (True becomes False, and vice versa).\n",
        "\n",
        "#operator and checks for false value and everything else becomes false\n",
        "#operator or checks for the true value and everything else becomes true\n",
        "#operator not negates the truth value of its operand and vice versa"
      ],
      "metadata": {
        "id": "aEJu-XJJkZ3C"
      },
      "execution_count": null,
      "outputs": []
    },
    {
      "cell_type": "code",
      "source": [
        "vacation_days = 0\n",
        "\n",
        "vacation_days = vacation_days + 1\n",
        "vacation_days = vacation_days + 1\n",
        "\n",
        "print(vacation_days)\n",
        "\n",
        "vacation_days += 1\n",
        "vacation_days += 1\n",
        "\n",
        "print(vacation_days)\n",
        "\n"
      ],
      "metadata": {
        "colab": {
          "base_uri": "https://localhost:8080/"
        },
        "id": "8to9sip8kpqC",
        "outputId": "bde0040e-5e8d-422f-a602-eb9d22051e85"
      },
      "execution_count": null,
      "outputs": [
        {
          "output_type": "stream",
          "name": "stdout",
          "text": [
            "2\n",
            "4\n"
          ]
        }
      ]
    },
    {
      "cell_type": "code",
      "source": [
        "vacation_days = 0\n",
        "\n",
        "vacation_days += 1\n",
        "vacation_days += 1\n",
        "\n",
        "print(vacation_days)"
      ],
      "metadata": {
        "colab": {
          "base_uri": "https://localhost:8080/"
        },
        "id": "Y6fcG3gdki5r",
        "outputId": "ed0984c9-ef00-4c75-d82d-2c9a2a42e615"
      },
      "execution_count": null,
      "outputs": [
        {
          "output_type": "stream",
          "name": "stdout",
          "text": [
            "2\n"
          ]
        }
      ]
    },
    {
      "cell_type": "code",
      "source": [
        "# If 0 is not truthy, and it is not True or False, what is it? Just as Python has truthy values, it has falsy values (or values that\n",
        "# are treated as False in conditional statements), and 0 is considered a falsy value.\n",
        "\n",
        "vacation_days = 0\n",
        "if vacation_days:\n",
        "    vacation_days += 1\n",
        "print(vacation_days)"
      ],
      "metadata": {
        "colab": {
          "base_uri": "https://localhost:8080/"
        },
        "id": "gbHz6Oo21wSo",
        "outputId": "9f98a1c2-a3c4-4fe5-8db2-cdb1cbaf1be1"
      },
      "execution_count": null,
      "outputs": [
        {
          "output_type": "stream",
          "name": "stdout",
          "text": [
            "0\n"
          ]
        }
      ]
    },
    {
      "cell_type": "code",
      "source": [
        "vacation_days = 0\n",
        "if vacation_days:\n",
        "    # this is not run\n",
        "    vacation_days += 1\n",
        "vacation_days"
      ],
      "metadata": {
        "colab": {
          "base_uri": "https://localhost:8080/"
        },
        "id": "QtNsBdsv3OXM",
        "outputId": "af66457c-d083-4360-82e9-82e533904fc4"
      },
      "execution_count": null,
      "outputs": [
        {
          "output_type": "execute_result",
          "data": {
            "text/plain": [
              "0"
            ]
          },
          "metadata": {},
          "execution_count": 17
        }
      ]
    },
    {
      "cell_type": "code",
      "source": [
        "print(bool(0))\n",
        "print(bool(1))\n",
        "print(bool(''))\n",
        "print(bool([]))\n",
        "print(bool(100))\n"
      ],
      "metadata": {
        "colab": {
          "base_uri": "https://localhost:8080/"
        },
        "id": "o279KC1T3qUo",
        "outputId": "f1b08bc6-6736-4dcb-db40-90d17d65a653"
      },
      "execution_count": null,
      "outputs": [
        {
          "output_type": "stream",
          "name": "stdout",
          "text": [
            "False\n",
            "True\n",
            "False\n",
            "False\n",
            "True\n"
          ]
        }
      ]
    },
    {
      "cell_type": "code",
      "source": [
        "# Boolean values (True and False) can also be used in mathematical\n",
        "#equations. True is set to 1 and False is set to 0.\n",
        "\n",
        "print(True + 5 + True)\n",
        "print(True - False - False + True)\n",
        "print(True * 4)"
      ],
      "metadata": {
        "colab": {
          "base_uri": "https://localhost:8080/"
        },
        "id": "gabI4f_D4ZYI",
        "outputId": "21b76d6e-b1be-47f8-8bd2-ff618bf17c58"
      },
      "execution_count": null,
      "outputs": [
        {
          "output_type": "stream",
          "name": "stdout",
          "text": [
            "7\n",
            "2\n",
            "4\n"
          ]
        }
      ]
    },
    {
      "cell_type": "code",
      "source": [
        "# We can see how this can be put to use in an If statement\n",
        "test_var = 1\n",
        "\n",
        "if test_var:\n",
        "    print('Truthy')\n",
        "else:\n",
        "    print('Falsey')"
      ],
      "metadata": {
        "colab": {
          "base_uri": "https://localhost:8080/"
        },
        "id": "nnLOZf5N6cP6",
        "outputId": "77e1691b-5ead-45d1-944f-15a1fea539b4"
      },
      "execution_count": null,
      "outputs": [
        {
          "output_type": "stream",
          "name": "stdout",
          "text": [
            "Truthy\n"
          ]
        }
      ]
    },
    {
      "cell_type": "code",
      "source": [
        "#number of leave days to be taken by employees termed as destructive, minimal\n",
        "# or average to work depending on the number of days taken\n",
        "number_of_days = 3\n",
        "if number_of_days > 5:\n",
        "    print(\"#disruptive\")\n",
        "elif number_of_days < 3:\n",
        "    print(\"#minimal\")\n",
        "else:\n",
        "    print(\"#average\")"
      ],
      "metadata": {
        "colab": {
          "base_uri": "https://localhost:8080/"
        },
        "id": "TSvCDqku7VP7",
        "outputId": "f3ade2de-134b-4bc4-9450-bc027ea894af"
      },
      "execution_count": null,
      "outputs": [
        {
          "output_type": "stream",
          "name": "stdout",
          "text": [
            "#average\n"
          ]
        }
      ]
    },
    {
      "cell_type": "code",
      "source": [
        "#working with lists\n",
        "['Solta', 'Greenville', 'Buenos Aires', 'Los Cabos', 'Walla Walla Valley', 'Marakesh', 'Albuquerque', 'Archipelago Sea', 'Iguazu Falls', 'Salina Island', 'Toronto', 'Pyeongchang']"
      ],
      "metadata": {
        "colab": {
          "base_uri": "https://localhost:8080/"
        },
        "id": "RKDosWdDuIMz",
        "outputId": "7deec33c-fd58-4572-a2d2-5e04092f245c"
      },
      "execution_count": null,
      "outputs": [
        {
          "output_type": "execute_result",
          "data": {
            "text/plain": [
              "['Solta',\n",
              " 'Greenville',\n",
              " 'Buenos Aires',\n",
              " 'Los Cabos',\n",
              " 'Walla Walla Valley',\n",
              " 'Marakesh',\n",
              " 'Albuquerque',\n",
              " 'Archipelago Sea',\n",
              " 'Iguazu Falls',\n",
              " 'Salina Island',\n",
              " 'Toronto',\n",
              " 'Pyeongchang']"
            ]
          },
          "metadata": {},
          "execution_count": 3
        }
      ]
    },
    {
      "cell_type": "code",
      "source": [
        "['Croatia', 'USA', 'Argentina', 'Mexico', 'USA', 'Morocco', 'New Mexico', 'Finland', 'Argentina', 'Italy', 'Canada', 'South Korea']"
      ],
      "metadata": {
        "colab": {
          "base_uri": "https://localhost:8080/"
        },
        "id": "y7mC6INfvDBu",
        "outputId": "01456948-83b8-4d26-9550-088a3f3faad9"
      },
      "execution_count": null,
      "outputs": [
        {
          "output_type": "execute_result",
          "data": {
            "text/plain": [
              "['Croatia',\n",
              " 'USA',\n",
              " 'Argentina',\n",
              " 'Mexico',\n",
              " 'USA',\n",
              " 'Morocco',\n",
              " 'New Mexico',\n",
              " 'Finland',\n",
              " 'Argentina',\n",
              " 'Italy',\n",
              " 'Canada',\n",
              " 'South Korea']"
            ]
          },
          "metadata": {},
          "execution_count": 5
        }
      ]
    },
    {
      "cell_type": "code",
      "source": [
        "#comparison Operators\n",
        "#>: greater than\n",
        "#>=: greater than or equal to\n",
        "#<: less than\n",
        "#<=: less than or equal to\n",
        "#==: equal to\n",
        "#!=: not equal to\n",
        "# In Python, the == function checks if the objects on both\n",
        "#sides are considered the equivalent values:\n",
        "\n",
        "print('1' == 1)\n",
        "print(1 == 1)\n",
        "print(1.0 == 1) #can be used to check for different datatypes\n",
        "\n",
        "\n"
      ],
      "metadata": {
        "colab": {
          "base_uri": "https://localhost:8080/"
        },
        "id": "AQp23_m9icNC",
        "outputId": "5137898b-8bdb-4d78-a5e1-3811d3d35cbe"
      },
      "execution_count": null,
      "outputs": [
        {
          "output_type": "stream",
          "name": "stdout",
          "text": [
            "False\n",
            "True\n",
            "True\n"
          ]
        }
      ]
    },
    {
      "cell_type": "code",
      "source": [
        "top_travel_cities = ['Solta', 'Greenville', 'Buenos Aires', 'Los Cabos', 'Walla Walla Valley', 'Marakesh', 'Albuquerque', 'Archipelago Sea', 'Iguazu Falls', 'Salina Island', 'Toronto', 'Pyeongchang']\n",
        "top_travel_cities"
      ],
      "metadata": {
        "colab": {
          "base_uri": "https://localhost:8080/"
        },
        "id": "NkDbSpjtvP9Q",
        "outputId": "97cf8f37-bbc9-4324-f9af-684f2cbeab40"
      },
      "execution_count": null,
      "outputs": [
        {
          "output_type": "execute_result",
          "data": {
            "text/plain": [
              "['Solta',\n",
              " 'Greenville',\n",
              " 'Buenos Aires',\n",
              " 'Los Cabos',\n",
              " 'Walla Walla Valley',\n",
              " 'Marakesh',\n",
              " 'Albuquerque',\n",
              " 'Archipelago Sea',\n",
              " 'Iguazu Falls',\n",
              " 'Salina Island',\n",
              " 'Toronto',\n",
              " 'Pyeongchang']"
            ]
          },
          "metadata": {},
          "execution_count": 7
        }
      ]
    },
    {
      "cell_type": "code",
      "source": [
        "countries_of_top_cities = ['Croatia', 'USA', 'Argentina', 'Mexico', 'USA', 'Morocco', 'New Mexico', 'Finland', 'Argentina', 'Italy', 'Canada', 'South Korea']\n",
        "countries_of_top_cities"
      ],
      "metadata": {
        "colab": {
          "base_uri": "https://localhost:8080/"
        },
        "id": "6n2Q4YAFv8Gj",
        "outputId": "aeb4b485-5e4a-4ed0-884b-dd279b837876"
      },
      "execution_count": null,
      "outputs": [
        {
          "output_type": "execute_result",
          "data": {
            "text/plain": [
              "['Croatia',\n",
              " 'USA',\n",
              " 'Argentina',\n",
              " 'Mexico',\n",
              " 'USA',\n",
              " 'Morocco',\n",
              " 'New Mexico',\n",
              " 'Finland',\n",
              " 'Argentina',\n",
              " 'Italy',\n",
              " 'Canada',\n",
              " 'South Korea']"
            ]
          },
          "metadata": {},
          "execution_count": 12
        }
      ]
    },
    {
      "cell_type": "code",
      "source": [
        "top_travel_cities[0]"
      ],
      "metadata": {
        "colab": {
          "base_uri": "https://localhost:8080/",
          "height": 35
        },
        "id": "PgKImlaKwrFy",
        "outputId": "ff2a8d80-9f60-4466-a7c1-85d4de947d52"
      },
      "execution_count": null,
      "outputs": [
        {
          "output_type": "execute_result",
          "data": {
            "text/plain": [
              "'Solta'"
            ],
            "application/vnd.google.colaboratory.intrinsic+json": {
              "type": "string"
            }
          },
          "metadata": {},
          "execution_count": 13
        }
      ]
    },
    {
      "cell_type": "code",
      "source": [
        "top_travel_cities[1]"
      ],
      "metadata": {
        "colab": {
          "base_uri": "https://localhost:8080/",
          "height": 35
        },
        "id": "UrqbEoHcxF0Q",
        "outputId": "9ee75ab3-2379-4fd7-9b48-8297de3cdf08"
      },
      "execution_count": null,
      "outputs": [
        {
          "output_type": "execute_result",
          "data": {
            "text/plain": [
              "'Greenville'"
            ],
            "application/vnd.google.colaboratory.intrinsic+json": {
              "type": "string"
            }
          },
          "metadata": {},
          "execution_count": 14
        }
      ]
    },
    {
      "cell_type": "code",
      "source": [
        "top_travel_cities[-1]"
      ],
      "metadata": {
        "colab": {
          "base_uri": "https://localhost:8080/",
          "height": 35
        },
        "id": "Tt8S8jjYxZYH",
        "outputId": "7dd6fb5c-0b98-4431-b3d0-12acf6ca7bf4"
      },
      "execution_count": null,
      "outputs": [
        {
          "output_type": "execute_result",
          "data": {
            "text/plain": [
              "'Pyeongchang'"
            ],
            "application/vnd.google.colaboratory.intrinsic+json": {
              "type": "string"
            }
          },
          "metadata": {},
          "execution_count": 15
        }
      ]
    },
    {
      "cell_type": "code",
      "source": [
        "top_canadian_city = top_travel_cities[-2]\n",
        "top_canadian_city"
      ],
      "metadata": {
        "colab": {
          "base_uri": "https://localhost:8080/",
          "height": 35
        },
        "id": "7sjEaZFqx2cE",
        "outputId": "71d5603a-7411-4431-e847-63333a342142"
      },
      "execution_count": null,
      "outputs": [
        {
          "output_type": "execute_result",
          "data": {
            "text/plain": [
              "'Toronto'"
            ],
            "application/vnd.google.colaboratory.intrinsic+json": {
              "type": "string"
            }
          },
          "metadata": {},
          "execution_count": 16
        }
      ]
    },
    {
      "cell_type": "code",
      "source": [
        "#slicing\n",
        "print(top_travel_cities[1:6])\n",
        "print(type(top_travel_cities))"
      ],
      "metadata": {
        "colab": {
          "base_uri": "https://localhost:8080/"
        },
        "id": "5DcCmSmnyiM9",
        "outputId": "ccb89118-9d70-4f29-e119-8418703648f5"
      },
      "execution_count": null,
      "outputs": [
        {
          "output_type": "stream",
          "name": "stdout",
          "text": [
            "['Greenville', 'Buenos Aires', 'Los Cabos', 'Walla Walla Valley', 'Marakesh']\n",
            "<class 'list'>\n"
          ]
        }
      ]
    },
    {
      "cell_type": "code",
      "source": [
        "#This operation is called slice. So, we can say we are slicing the elements with indices 4 and 5 in the line above. Note that even\n",
        "#though we are slicing elements, our list remains intact.\n",
        "top_travel_cities[4:6]"
      ],
      "metadata": {
        "colab": {
          "base_uri": "https://localhost:8080/"
        },
        "id": "VzmICN0gzxiM",
        "outputId": "3b67f2e9-be59-43bb-b2c8-ef7ab36a03c5"
      },
      "execution_count": null,
      "outputs": [
        {
          "output_type": "execute_result",
          "data": {
            "text/plain": [
              "['Walla Walla Valley', 'Marakesh']"
            ]
          },
          "metadata": {},
          "execution_count": 20
        }
      ]
    },
    {
      "cell_type": "code",
      "source": [
        "#In programming terms, we would say that slicing elements is non-destructive, because it does not change the underlying data structure. We can do it as many times\n",
        "#as we like, and our top_travel_cities array remains unchanged. If we wish to store that slice of elements, we can store it in another variable."
      ],
      "metadata": {
        "id": "u1L617YP0Uap"
      },
      "execution_count": null,
      "outputs": []
    },
    {
      "cell_type": "code",
      "source": [
        "top_travel_cities.append('San Antonio')\n",
        "top_travel_cities"
      ],
      "metadata": {
        "colab": {
          "base_uri": "https://localhost:8080/"
        },
        "id": "eDvUWg6G052K",
        "outputId": "93ba13bc-0396-48cb-f245-bcb7da06b96b"
      },
      "execution_count": null,
      "outputs": [
        {
          "output_type": "execute_result",
          "data": {
            "text/plain": [
              "['Solta',\n",
              " 'Greenville',\n",
              " 'Buenos Aires',\n",
              " 'Los Cabos',\n",
              " 'Walla Walla Valley',\n",
              " 'Marakesh',\n",
              " 'Albuquerque',\n",
              " 'Archipelago Sea',\n",
              " 'Iguazu Falls',\n",
              " 'Salina Island',\n",
              " 'Toronto',\n",
              " 'Pyeongchang',\n",
              " 'San Antonio',\n",
              " 'San Antonio']"
            ]
          },
          "metadata": {},
          "execution_count": 22
        }
      ]
    },
    {
      "cell_type": "code",
      "source": [
        "top_travel_cities.pop() #deletes the last element in a list"
      ],
      "metadata": {
        "colab": {
          "base_uri": "https://localhost:8080/",
          "height": 35
        },
        "id": "iz2g0ohz1r0J",
        "outputId": "564876df-9a89-4197-c3c8-8010d1d60ad1"
      },
      "execution_count": null,
      "outputs": [
        {
          "output_type": "execute_result",
          "data": {
            "text/plain": [
              "'San Antonio'"
            ],
            "application/vnd.google.colaboratory.intrinsic+json": {
              "type": "string"
            }
          },
          "metadata": {},
          "execution_count": 23
        }
      ]
    },
    {
      "cell_type": "code",
      "source": [
        "top_travel_cities[6]"
      ],
      "metadata": {
        "colab": {
          "base_uri": "https://localhost:8080/",
          "height": 35
        },
        "id": "43G1137h2Hyz",
        "outputId": "0e908251-01de-442d-aaef-4c161ad32da8"
      },
      "execution_count": null,
      "outputs": [
        {
          "output_type": "execute_result",
          "data": {
            "text/plain": [
              "'Albuquerque'"
            ],
            "application/vnd.google.colaboratory.intrinsic+json": {
              "type": "string"
            }
          },
          "metadata": {},
          "execution_count": 26
        }
      ]
    },
    {
      "cell_type": "code",
      "source": [
        "#reassign\n",
        "top_travel_cities[6] = 9\n",
        "top_travel_cities"
      ],
      "metadata": {
        "colab": {
          "base_uri": "https://localhost:8080/"
        },
        "id": "RXRf6dO-2l5T",
        "outputId": "a0a31b60-8f67-442f-f5de-8bff2fcb5f8c"
      },
      "execution_count": null,
      "outputs": [
        {
          "output_type": "execute_result",
          "data": {
            "text/plain": [
              "['Solta',\n",
              " 'Greenville',\n",
              " 'Buenos Aires',\n",
              " 'Los Cabos',\n",
              " 'Walla Walla Valley',\n",
              " 'Marakesh',\n",
              " 9,\n",
              " 'Archipelago Sea',\n",
              " 'Iguazu Falls',\n",
              " 'Salina Island',\n",
              " 'Toronto',\n",
              " 'Pyeongchang',\n",
              " 'San Antonio']"
            ]
          },
          "metadata": {},
          "execution_count": 27
        }
      ]
    },
    {
      "cell_type": "code",
      "source": [
        "#dictionaries\n",
        "\n",
        "friends = {'name': 'Friends', 'genre': 'sitcom', 'no_of_seasons': 10}"
      ],
      "metadata": {
        "id": "pp62HaUyHkM-"
      },
      "execution_count": null,
      "outputs": []
    },
    {
      "cell_type": "code",
      "source": [
        "friends"
      ],
      "metadata": {
        "colab": {
          "base_uri": "https://localhost:8080/"
        },
        "id": "negsA0oMH8Ah",
        "outputId": "f3a3236c-d822-44c6-b511-0d91c39676e8"
      },
      "execution_count": null,
      "outputs": [
        {
          "output_type": "execute_result",
          "data": {
            "text/plain": [
              "{'name': 'Friends', 'genre': 'sitcom', 'no_of_seasons': 10}"
            ]
          },
          "metadata": {},
          "execution_count": 29
        }
      ]
    },
    {
      "cell_type": "code",
      "source": [
        "friends['genre'] #access information"
      ],
      "metadata": {
        "colab": {
          "base_uri": "https://localhost:8080/",
          "height": 35
        },
        "id": "R2LBXRqHIC_n",
        "outputId": "10ed5ab0-dbb1-4370-8217-790b96e0c18a"
      },
      "execution_count": null,
      "outputs": [
        {
          "output_type": "execute_result",
          "data": {
            "text/plain": [
              "'sitcom'"
            ],
            "application/vnd.google.colaboratory.intrinsic+json": {
              "type": "string"
            }
          },
          "metadata": {},
          "execution_count": 30
        }
      ]
    },
    {
      "cell_type": "code",
      "source": [
        "friends['publication year'] = 2019"
      ],
      "metadata": {
        "id": "SAvZOMcrIURo"
      },
      "execution_count": null,
      "outputs": []
    },
    {
      "cell_type": "code",
      "source": [
        "friends"
      ],
      "metadata": {
        "colab": {
          "base_uri": "https://localhost:8080/"
        },
        "id": "z2ZIUWLTIjpB",
        "outputId": "7b3735fa-f17c-46c4-fa95-70b418ee6a12"
      },
      "execution_count": null,
      "outputs": [
        {
          "output_type": "execute_result",
          "data": {
            "text/plain": [
              "{'name': 'Friends',\n",
              " 'genre': 'sitcom',\n",
              " 'no_of_seasons': 10,\n",
              " 'publication year': 2019}"
            ]
          },
          "metadata": {},
          "execution_count": 32
        }
      ]
    },
    {
      "cell_type": "code",
      "source": [
        "#assign\n",
        "friends['pages'] = 890"
      ],
      "metadata": {
        "id": "UJw9wGcSIw2t"
      },
      "execution_count": null,
      "outputs": []
    },
    {
      "cell_type": "code",
      "source": [
        "friends['pages']"
      ],
      "metadata": {
        "colab": {
          "base_uri": "https://localhost:8080/"
        },
        "id": "fa9ppAn_JFXE",
        "outputId": "f2403083-d0d4-4daf-b93d-dd07d8775ae3"
      },
      "execution_count": null,
      "outputs": [
        {
          "output_type": "execute_result",
          "data": {
            "text/plain": [
              "890"
            ]
          },
          "metadata": {},
          "execution_count": 38
        }
      ]
    },
    {
      "cell_type": "code",
      "source": [
        "del friends['pages']"
      ],
      "metadata": {
        "id": "qlb1D_AIJn2m"
      },
      "execution_count": null,
      "outputs": []
    },
    {
      "cell_type": "code",
      "source": [
        "friends"
      ],
      "metadata": {
        "colab": {
          "base_uri": "https://localhost:8080/"
        },
        "id": "hTjp4qv_JwfE",
        "outputId": "68c79e50-7345-4854-dbcf-7d0724a64d9f"
      },
      "execution_count": null,
      "outputs": [
        {
          "output_type": "execute_result",
          "data": {
            "text/plain": [
              "{'name': 'Friends',\n",
              " 'genre': 'sitcom',\n",
              " 'no_of_seasons': 10,\n",
              " 'publication year': 2019}"
            ]
          },
          "metadata": {},
          "execution_count": 40
        }
      ]
    },
    {
      "cell_type": "code",
      "source": [
        "Help on class dict in module builtins:\n",
        "\n",
        "class dict(object)\n",
        " |  dict() -> new empty dictionary\n",
        " |  dict(mapping) -> new dictionary initialized from a mapping object's\n",
        " |      (key, value) pairs\n",
        " |  dict(iterable) -> new dictionary initialized as if via:\n",
        " |      d = {}\n",
        " |      for k, v in iterable:\n",
        " |          d[k] = v\n",
        " |  dict(**kwargs) -> new dictionary initialized with the name=value pairs\n",
        " |      in the keyword argument list.  For example:  dict(one=1, two=2)\n",
        " |\n",
        " |  Methods defined here:\n",
        " |\n",
        " |  __contains__(self, key, /)\n",
        " |      True if the dictionary has the specified key, else False.\n",
        " |\n",
        " |  __delitem__(self, key, /)\n",
        " |      Delete self[key].\n",
        " |\n",
        " |  __eq__(self, value, /)\n",
        " |      Return self==value.\n",
        " |\n",
        " |  __ge__(self, value, /)\n",
        " |      Return self>=value.\n",
        " |\n",
        " |  __getattribute__(self, name, /)\n",
        " |      Return getattr(self, name).\n",
        " |\n",
        " |  __getitem__(...)\n",
        " |      x.__getitem__(y) <==> x[y]\n",
        " |\n",
        " |  __gt__(self, value, /)\n",
        " |      Return self>value.\n",
        " |\n",
        " |  __init__(self, /, *args, **kwargs)\n",
        " |      Initialize self.  See help(type(self)) for accurate signature.\n",
        " |\n",
        " |  __iter__(self, /)\n",
        " |      Implement iter(self).\n",
        " |\n",
        " |  __le__(self, value, /)\n",
        " |      Return self<=value.\n",
        " |\n",
        " |  __len__(self, /)\n",
        " |      Return len(self).\n",
        " |\n",
        " |  __lt__(self, value, /)\n",
        " |      Return self<value.\n",
        " |\n",
        " |  __ne__(self, value, /)\n",
        " |      Return self!=value.\n",
        " |\n",
        " |  __repr__(self, /)\n",
        " |      Return repr(self).\n",
        " |\n",
        " |  __setitem__(self, key, value, /)\n",
        " |      Set self[key] to value.\n",
        " |\n",
        " |  __sizeof__(...)\n",
        " |      D.__sizeof__() -> size of D in memory, in bytes\n",
        " |\n",
        " |  clear(...)\n",
        " |      D.clear() -> None.  Remove all items from D.\n",
        " |\n",
        " |  copy(...)\n",
        " |      D.copy() -> a shallow copy of D\n",
        " |\n",
        " |  get(self, key, default=None, /)\n",
        " |      Return the value for key if key is in the dictionary, else default.\n",
        " |\n",
        " |  items(...)\n",
        " |      D.items() -> a set-like object providing a view on D's items\n",
        " |\n",
        " |  keys(...)\n",
        " |      D.keys() -> a set-like object providing a view on D's keys\n",
        " |\n",
        " |  pop(...)\n",
        " |      D.pop(k[,d]) -> v, remove specified key and return the corresponding value.\n",
        " |      If key is not found, d is returned if given, otherwise KeyError is raised\n",
        " |\n",
        " |  popitem(...)\n",
        " |      D.popitem() -> (k, v), remove and return some (key, value) pair as a\n",
        " |      2-tuple; but raise KeyError if D is empty.\n",
        " |\n",
        " |  setdefault(self, key, default=None, /)\n",
        " |      Insert key with a value of default if key is not in the dictionary.\n",
        " |\n",
        " |      Return the value for key if key is in the dictionary, else default.\n",
        " |\n",
        " |  update(...)\n",
        " |      D.update([E, ]**F) -> None.  Update D from dict/iterable E and F.\n",
        " |      If E is present and has a .keys() method, then does:  for k in E: D[k] = E[k]\n",
        " |      If E is present and lacks a .keys() method, then does:  for k, v in E: D[k] = v\n",
        " |      In either case, this is followed by: for k in F:  D[k] = F[k]\n",
        " |\n",
        " |  values(...)\n",
        " |      D.values() -> an object providing a view on D's values\n",
        " |\n",
        " |  ----------------------------------------------------------------------\n",
        " |  Class methods defined here:\n",
        " |\n",
        " |  fromkeys(iterable, value=None, /) from builtins.type\n",
        " |      Create a new dictionary with keys from iterable and values set to value.\n",
        " |\n",
        " |  ----------------------------------------------------------------------\n",
        " |  Static methods defined here:\n",
        " |\n",
        " |  __new__(*args, **kwargs) from builtins.type\n",
        " |      Create and return a new object.  See help(type) for accurate signature.\n",
        " |\n",
        " |  ----------------------------------------------------------------------\n",
        " |  Data and other attributes defined here:\n",
        " |\n",
        " |  __hash__ = None\n",
        "\n",
        "# Add a dot (.) after 'friends' and press tab to see all of the available methods\n",
        "friends\n",
        "You should see something like this:"
      ],
      "metadata": {
        "id": "3oXHwQSDKVC_"
      },
      "execution_count": null,
      "outputs": []
    },
    {
      "cell_type": "code",
      "source": [
        "#algorithm\n",
        "#Goal? To get time_remaining_to_eat = time_for_breakfast -\n",
        "#(total_time_to_cook_each_pancake * number_of_cooked_pancakes)\n",
        "# procedure & time taken to cook each pancake:-\n",
        "    #add to pan -> 5 sec\n",
        "    #flip -> 5 sec\n",
        "    #remove -> 5 sec\n",
        "    #cook each side -> 27 *2 = 54\n",
        "# total_time_to_cook_each_pancake = 54 + 15 = 69 sec\n",
        "# while the number_of_cooked_pancakes <= 5:\n",
        "    # calculate the time_remaining_to_eat\n",
        "    # and increase the number_of_cooked_pancakes by 1\n",
        "time_for_breakfast = 1468 # in seconds\n",
        "number_of_cooked_pancakes = 0\n",
        "time_to_cook_each_pancake = 69\n",
        "time_remaining_to_eat = 0\n",
        "# write your while loop here\n",
        "while number_of_cooked_pancakes <= 5:\n",
        "    time_remaining_to_eat = time_for_breakfast - (time_to_cook_each_pancake * number_of_cooked_pancakes)\n",
        "    print(time_remaining_to_eat)\n",
        "    number_of_cooked_pancakes += 1\n",
        "# use a while loop to make 5 pancakes for breakfast\n",
        "# each pancake takes 27 seconds to cook on each side\n",
        "# it takes an average of 5 seconds to flip a pancake, add or remove a pancake from the pan.\n",
        "# you must decrease the time_for_breakfast each time you\n",
        "# add a pancake to the skillet (frying pan) or flip a pancake (i.e. 2 times per pancake)\n",
        "# there is only room for one pancake at a time\n",
        "# print out how much time is remaining"
      ],
      "metadata": {
        "colab": {
          "base_uri": "https://localhost:8080/"
        },
        "id": "CYYkAx_lZQvQ",
        "outputId": "198f12f7-bec4-4192-eb08-a6307d2d6915"
      },
      "execution_count": null,
      "outputs": [
        {
          "output_type": "stream",
          "name": "stdout",
          "text": [
            "1468\n",
            "1399\n",
            "1330\n",
            "1261\n",
            "1192\n",
            "1123\n"
          ]
        }
      ]
    },
    {
      "cell_type": "code",
      "source": [
        "time_for_breakfast = 1468 # in seconds\n",
        "number_of_cooked_pancakes = 0\n",
        "time_to_cook_each_pancake = 69\n",
        "time_remaining_to_eat = 0\n",
        "# write your while loop here\n",
        "while number_of_cooked_pancakes <= 5:\n",
        "    time_remaining_to_eat = time_for_breakfast - (time_to_cook_each_pancake * number_of_cooked_pancakes)\n",
        "    print(time_remaining_to_eat)\n",
        "    number_of_cooked_pancakes += 1\n",
        ""
      ],
      "metadata": {
        "colab": {
          "base_uri": "https://localhost:8080/"
        },
        "id": "-3s1My22ZjnV",
        "outputId": "04bd58e7-3530-4f09-9922-dd8eff5dfb9d"
      },
      "execution_count": null,
      "outputs": [
        {
          "output_type": "stream",
          "name": "stdout",
          "text": [
            "1468\n",
            "1399\n",
            "1330\n",
            "1261\n",
            "1192\n",
            "1123\n"
          ]
        }
      ]
    },
    {
      "cell_type": "code",
      "source": [
        "new_employees = ['jim', 'tracy', 'lisa']"
      ],
      "metadata": {
        "id": "YKq-2D4lFooJ"
      },
      "execution_count": null,
      "outputs": []
    },
    {
      "cell_type": "code",
      "source": [
        "#use a for loop to create a welcome message to the new employees\n",
        "welcome_messages = []\n",
        "for new_employee in new_employees:\n",
        "    welcome_messages.append(\"Hi \" + new_employee.title() + \", I'm so glad to be working with you!\" )\n",
        "\n",
        "welcome_messages"
      ],
      "metadata": {
        "colab": {
          "base_uri": "https://localhost:8080/"
        },
        "id": "mxWH_g-tGPUP",
        "outputId": "f391522d-9742-4c53-a68b-004d3da4e93e"
      },
      "execution_count": null,
      "outputs": [
        {
          "output_type": "execute_result",
          "data": {
            "text/plain": [
              "[\"Hi Jim, I'm so glad to be working with you!\",\n",
              " \"Hi Tracy, I'm so glad to be working with you!\",\n",
              " \"Hi Lisa, I'm so glad to be working with you!\"]"
            ]
          },
          "metadata": {},
          "execution_count": 9
        }
      ]
    },
    {
      "cell_type": "code",
      "source": [
        "new_employees = [\"steven\", \"jan\", \"meryl\"]"
      ],
      "metadata": {
        "id": "lYaARnE-LJN2"
      },
      "execution_count": null,
      "outputs": []
    },
    {
      "cell_type": "code",
      "source": [
        "welcome_messages = []\n",
        "for new_employee in new_employees:\n",
        "    welcome_messages.append(\"Hi \" + new_employee.title() + \", I'm so glad to be working with you!\" )\n",
        "\n",
        "welcome_messages"
      ],
      "metadata": {
        "colab": {
          "base_uri": "https://localhost:8080/"
        },
        "id": "ht_hdxPkMRLq",
        "outputId": "92471b03-0bc9-41cd-85f8-41dbb0d52cdc"
      },
      "execution_count": null,
      "outputs": [
        {
          "output_type": "execute_result",
          "data": {
            "text/plain": [
              "[\"Hi Steven, I'm so glad to be working with you!\",\n",
              " \"Hi Jan, I'm so glad to be working with you!\",\n",
              " \"Hi Meryl, I'm so glad to be working with you!\"]"
            ]
          },
          "metadata": {},
          "execution_count": 12
        }
      ]
    },
    {
      "cell_type": "code",
      "source": [
        "#now rewrite the code using functions\n",
        "def greet_employees():\n",
        "    welcome_messages = []\n",
        "    for new_employee in new_employees:\n",
        "        welcome_messages.append(\"Hi \" + new_employee.title() + \", I'm so glad to be working with you!\" )\n",
        "\n",
        "    return welcome_messages\n",
        "\n",
        "\n",
        "\n",
        "\n",
        "\n",
        ""
      ],
      "metadata": {
        "id": "FqJr4Xo3Nidg"
      },
      "execution_count": null,
      "outputs": []
    },
    {
      "cell_type": "code",
      "source": [
        "greet_employees()"
      ],
      "metadata": {
        "colab": {
          "base_uri": "https://localhost:8080/"
        },
        "id": "aeHvH1S7PhYr",
        "outputId": "f2891967-8ae8-4a2b-c177-cf4a62798cea"
      },
      "execution_count": null,
      "outputs": [
        {
          "output_type": "execute_result",
          "data": {
            "text/plain": [
              "[\"Hi Steven, I'm so glad to be working with you!\",\n",
              " \"Hi Jan, I'm so glad to be working with you!\",\n",
              " \"Hi Meryl, I'm so glad to be working with you!\"]"
            ]
          },
          "metadata": {},
          "execution_count": 16
        }
      ]
    },
    {
      "cell_type": "code",
      "source": [
        "new_employees = ['Jan', 'Joe', 'Avi']\n"
      ],
      "metadata": {
        "id": "JkvtrqyuPhwP"
      },
      "execution_count": null,
      "outputs": []
    },
    {
      "cell_type": "code",
      "source": [
        "greet_employees()"
      ],
      "metadata": {
        "id": "CiU8JiEZPzj0",
        "outputId": "500ca760-9624-4bc4-f1b3-a8daff9c2bd8",
        "colab": {
          "base_uri": "https://localhost:8080/"
        }
      },
      "execution_count": null,
      "outputs": [
        {
          "output_type": "execute_result",
          "data": {
            "text/plain": [
              "[\"Hi Jan, I'm so glad to be working with you!\",\n",
              " \"Hi Joe, I'm so glad to be working with you!\",\n",
              " \"Hi Avi, I'm so glad to be working with you!\"]"
            ]
          },
          "metadata": {},
          "execution_count": 18
        }
      ]
    },
    {
      "cell_type": "code",
      "source": [
        "name = input(\"What is your name: \")\n",
        "age = int(input(\"How old are you: \"))\n",
        "current_year = int(input(\"What is the current year: \"))\n",
        "year = str((current_year - age) + 100)\n",
        "print(name + \" will be 100 years old in the year \" + year)"
      ],
      "metadata": {
        "colab": {
          "base_uri": "https://localhost:8080/"
        },
        "id": "yCgtfuRZxu9E",
        "outputId": "ce796ad8-d7f9-4acf-84ee-b58903567f10"
      },
      "execution_count": null,
      "outputs": [
        {
          "output_type": "stream",
          "name": "stdout",
          "text": [
            "What is your name: Flavine\n",
            "How old are you: 50\n",
            "What is the current year: 2023\n",
            "Flavine will be 100 years old in the year 2073\n"
          ]
        }
      ]
    },
    {
      "cell_type": "code",
      "source": [
        "#Numpy\n",
        "import numpy as np\n"
      ],
      "metadata": {
        "id": "OCL4sQh0frhL"
      },
      "execution_count": null,
      "outputs": []
    },
    {
      "cell_type": "code",
      "source": [
        "one_array = np.array([1, 2 ,3])\n",
        "print(one_array)"
      ],
      "metadata": {
        "colab": {
          "base_uri": "https://localhost:8080/"
        },
        "id": "HLNOR8a1CeZM",
        "outputId": "48c220a9-4c3b-4610-fac9-318d598ab9f9"
      },
      "execution_count": null,
      "outputs": [
        {
          "output_type": "stream",
          "name": "stdout",
          "text": [
            "[1 2 3]\n"
          ]
        }
      ]
    },
    {
      "cell_type": "code",
      "source": [
        "#sigma notation\n",
        "sum_total = 0\n",
        "n = 5\n",
        "for i in range(1, n+1):\n",
        "    sum_total += i"
      ],
      "metadata": {
        "id": "2yqNpwIpDQrk"
      },
      "execution_count": null,
      "outputs": []
    },
    {
      "cell_type": "code",
      "source": [
        " #measures of central tendancies\n",
        "data = np.array([10, 12, 15, 18, 20])"
      ],
      "metadata": {
        "id": "MNzNPYxvClhA"
      },
      "execution_count": null,
      "outputs": []
    },
    {
      "cell_type": "code",
      "source": [
        "from scipy import stats"
      ],
      "metadata": {
        "id": "hUZiGG_LbpoU"
      },
      "execution_count": null,
      "outputs": []
    },
    {
      "cell_type": "code",
      "source": [
        "print(f\"mode: {stats.mode(data)[0][0]}\")"
      ],
      "metadata": {
        "colab": {
          "base_uri": "https://localhost:8080/"
        },
        "id": "kGfrxGVDcSmo",
        "outputId": "fa018402-142e-48c4-e771-e1072e18d733"
      },
      "execution_count": null,
      "outputs": [
        {
          "output_type": "stream",
          "name": "stdout",
          "text": [
            "mode: 10\n"
          ]
        },
        {
          "output_type": "stream",
          "name": "stderr",
          "text": [
            "<ipython-input-22-32994888ac98>:1: FutureWarning: Unlike other reduction functions (e.g. `skew`, `kurtosis`), the default behavior of `mode` typically preserves the axis it acts along. In SciPy 1.11.0, this behavior will change: the default value of `keepdims` will become False, the `axis` over which the statistic is taken will be eliminated, and the value None will no longer be accepted. Set `keepdims` to True or False to avoid this warning.\n",
            "  print(f\"mode: {stats.mode(data)[0][0]}\")\n"
          ]
        }
      ]
    },
    {
      "cell_type": "code",
      "source": [
        "?stats"
      ],
      "metadata": {
        "id": "Nxmo2QzYb2JP"
      },
      "execution_count": null,
      "outputs": []
    },
    {
      "cell_type": "code",
      "source": [
        "?statistics"
      ],
      "metadata": {
        "id": "gRpwedUmdedP"
      },
      "execution_count": null,
      "outputs": []
    },
    {
      "cell_type": "code",
      "source": [
        "print(f\"mean: {np.mean(data)}\")"
      ],
      "metadata": {
        "colab": {
          "base_uri": "https://localhost:8080/"
        },
        "id": "jWTqplygcCsS",
        "outputId": "fe3e3003-8f25-4222-9e82-f13b89242bf5"
      },
      "execution_count": null,
      "outputs": [
        {
          "output_type": "stream",
          "name": "stdout",
          "text": [
            "mean: 15.0\n"
          ]
        }
      ]
    },
    {
      "cell_type": "code",
      "source": [
        "#method 2\n",
        "data.mean\n",
        "#Fairsec library"
      ],
      "metadata": {
        "colab": {
          "base_uri": "https://localhost:8080/"
        },
        "id": "EZIBJsS9dtCe",
        "outputId": "cf62b79b-22d7-4870-acac-68d56918319b"
      },
      "execution_count": null,
      "outputs": [
        {
          "output_type": "execute_result",
          "data": {
            "text/plain": [
              "<function ndarray.mean>"
            ]
          },
          "metadata": {},
          "execution_count": 23
        }
      ]
    },
    {
      "cell_type": "code",
      "source": [
        "print(f\"median: {np.median(data)}\")"
      ],
      "metadata": {
        "colab": {
          "base_uri": "https://localhost:8080/"
        },
        "id": "mS5jZB5kdCaP",
        "outputId": "3a6784a2-190e-404b-85eb-6bba3061a780"
      },
      "execution_count": null,
      "outputs": [
        {
          "output_type": "stream",
          "name": "stdout",
          "text": [
            "median: 15.0\n"
          ]
        }
      ]
    },
    {
      "cell_type": "code",
      "source": [
        "from scipy import stats"
      ],
      "metadata": {
        "id": "-hMUn4aWdhjX"
      },
      "execution_count": null,
      "outputs": []
    },
    {
      "cell_type": "code",
      "source": [
        "import numpy as np"
      ],
      "metadata": {
        "id": "ZQTBr46ffR7L"
      },
      "execution_count": null,
      "outputs": []
    },
    {
      "cell_type": "code",
      "source": [
        "#calculate the mean, mode and median\n",
        "data = np.array([12, 15, 12, 18, 20, 18, 12, 20])"
      ],
      "metadata": {
        "id": "Ch5-uBQFeWOF"
      },
      "execution_count": null,
      "outputs": []
    },
    {
      "cell_type": "code",
      "source": [
        "print(f\"mode: {stats.mode(data)[0][0]}\")\n",
        "print(f\"mean: {np.mean(data)}\")\n",
        "print(f\"median: {np.median(data)}\")\n"
      ],
      "metadata": {
        "colab": {
          "base_uri": "https://localhost:8080/"
        },
        "id": "Se38YmA_dcZj",
        "outputId": "32e1c1fc-562e-4ef5-d7c6-1facd3911e7f"
      },
      "execution_count": null,
      "outputs": [
        {
          "output_type": "stream",
          "name": "stdout",
          "text": [
            "mode: 12\n",
            "mean: 15.875\n",
            "median: 16.5\n"
          ]
        },
        {
          "output_type": "stream",
          "name": "stderr",
          "text": [
            "<ipython-input-30-f6d0f26e49c8>:1: FutureWarning: Unlike other reduction functions (e.g. `skew`, `kurtosis`), the default behavior of `mode` typically preserves the axis it acts along. In SciPy 1.11.0, this behavior will change: the default value of `keepdims` will become False, the `axis` over which the statistic is taken will be eliminated, and the value None will no longer be accepted. Set `keepdims` to True or False to avoid this warning.\n",
            "  print(f\"mode: {stats.mode(data)[0][0]}\")\n"
          ]
        }
      ]
    },
    {
      "cell_type": "code",
      "source": [
        "data = np.array([22, 56, 11, 4, -17, 6, 80, -126])\n",
        "print(f\"median: {np.median(data)}\")"
      ],
      "metadata": {
        "colab": {
          "base_uri": "https://localhost:8080/"
        },
        "id": "IKjv3igAYjxU",
        "outputId": "e6771bba-b3ed-4076-a349-b3edae5363f4"
      },
      "execution_count": null,
      "outputs": [
        {
          "output_type": "stream",
          "name": "stdout",
          "text": [
            "median: 8.5\n"
          ]
        }
      ]
    },
    {
      "cell_type": "code",
      "source": [
        "data = np.array([22, 56, 11, 4, -17, 6, 80])\n",
        "print(f\"median: {np.median(data)}\")"
      ],
      "metadata": {
        "colab": {
          "base_uri": "https://localhost:8080/"
        },
        "id": "Rb0v7bQqa4Iz",
        "outputId": "f187cf85-41aa-408c-c86c-f806c7cf4ac8"
      },
      "execution_count": null,
      "outputs": [
        {
          "output_type": "stream",
          "name": "stdout",
          "text": [
            "median: 11.0\n"
          ]
        }
      ]
    },
    {
      "cell_type": "code",
      "source": [
        "data = np.array([19, 18, 21, 16, 15, 17, 20, 18])\n",
        "print(f\"mode: {stats.mode(data)[0][0]}\")"
      ],
      "metadata": {
        "colab": {
          "base_uri": "https://localhost:8080/"
        },
        "id": "_qOHbVIeZGri",
        "outputId": "a6679bef-e383-4d7e-e4f2-634aff6d28cc"
      },
      "execution_count": null,
      "outputs": [
        {
          "output_type": "stream",
          "name": "stdout",
          "text": [
            "mode: 18\n"
          ]
        },
        {
          "output_type": "stream",
          "name": "stderr",
          "text": [
            "<ipython-input-10-b9cad8057004>:2: FutureWarning: Unlike other reduction functions (e.g. `skew`, `kurtosis`), the default behavior of `mode` typically preserves the axis it acts along. In SciPy 1.11.0, this behavior will change: the default value of `keepdims` will become False, the `axis` over which the statistic is taken will be eliminated, and the value None will no longer be accepted. Set `keepdims` to True or False to avoid this warning.\n",
            "  print(f\"mode: {stats.mode(data)[0][0]}\")\n"
          ]
        }
      ]
    },
    {
      "cell_type": "code",
      "source": [
        "stats.mode(data)[0][0]"
      ],
      "metadata": {
        "colab": {
          "base_uri": "https://localhost:8080/"
        },
        "id": "cg1sa8EvZUxi",
        "outputId": "8239730a-8429-422c-d668-c09adb660291"
      },
      "execution_count": null,
      "outputs": [
        {
          "output_type": "stream",
          "name": "stderr",
          "text": [
            "<ipython-input-6-a29e7c9e9fa3>:1: FutureWarning: Unlike other reduction functions (e.g. `skew`, `kurtosis`), the default behavior of `mode` typically preserves the axis it acts along. In SciPy 1.11.0, this behavior will change: the default value of `keepdims` will become False, the `axis` over which the statistic is taken will be eliminated, and the value None will no longer be accepted. Set `keepdims` to True or False to avoid this warning.\n",
            "  stats.mode(data)[0][0]\n"
          ]
        },
        {
          "output_type": "execute_result",
          "data": {
            "text/plain": [
              "-126"
            ]
          },
          "metadata": {},
          "execution_count": 6
        }
      ]
    },
    {
      "cell_type": "code",
      "source": [
        "stats.mode(data)[0][0]"
      ],
      "metadata": {
        "colab": {
          "base_uri": "https://localhost:8080/"
        },
        "id": "mIMgltoIfsoO",
        "outputId": "cd818885-048e-40d8-951e-d278179b01da"
      },
      "execution_count": null,
      "outputs": [
        {
          "output_type": "stream",
          "name": "stderr",
          "text": [
            "<ipython-input-31-a29e7c9e9fa3>:1: FutureWarning: Unlike other reduction functions (e.g. `skew`, `kurtosis`), the default behavior of `mode` typically preserves the axis it acts along. In SciPy 1.11.0, this behavior will change: the default value of `keepdims` will become False, the `axis` over which the statistic is taken will be eliminated, and the value None will no longer be accepted. Set `keepdims` to True or False to avoid this warning.\n",
            "  stats.mode(data)[0][0]\n"
          ]
        },
        {
          "output_type": "execute_result",
          "data": {
            "text/plain": [
              "12"
            ]
          },
          "metadata": {},
          "execution_count": 31
        }
      ]
    },
    {
      "cell_type": "code",
      "source": [
        "data.mean()"
      ],
      "metadata": {
        "colab": {
          "base_uri": "https://localhost:8080/"
        },
        "id": "ECIvcqtHf9pt",
        "outputId": "4d4ee2d8-f130-4c81-9979-506f825c9bdb"
      },
      "execution_count": null,
      "outputs": [
        {
          "output_type": "execute_result",
          "data": {
            "text/plain": [
              "15.875"
            ]
          },
          "metadata": {},
          "execution_count": 32
        }
      ]
    },
    {
      "cell_type": "code",
      "source": [
        "#measures of central dispersion\n",
        "#they look at a distribution we have the range, variance and standard deviation"
      ],
      "metadata": {
        "id": "o2B-M_pVgGUC"
      },
      "execution_count": null,
      "outputs": []
    },
    {
      "cell_type": "code",
      "source": [
        "data = np.array([10, 12, 15, 18, 20])"
      ],
      "metadata": {
        "id": "2cGwzXv9hypH"
      },
      "execution_count": null,
      "outputs": []
    },
    {
      "cell_type": "code",
      "source": [
        "print(f\"min: {data.min()}\")\n",
        "print(f\"max: {data.max()}\")\n",
        "print(f\"range: {data.min()} - {data.max()}\")"
      ],
      "metadata": {
        "colab": {
          "base_uri": "https://localhost:8080/"
        },
        "id": "5fqpYwI2gwUt",
        "outputId": "e5b4a3fc-6c93-40f7-b364-73e136786c2c"
      },
      "execution_count": null,
      "outputs": [
        {
          "output_type": "stream",
          "name": "stdout",
          "text": [
            "min: 10\n",
            "max: 20\n",
            "range: 10 - 20\n"
          ]
        }
      ]
    },
    {
      "cell_type": "code",
      "source": [
        "variance = np.var(data)\n",
        "print(variance)"
      ],
      "metadata": {
        "colab": {
          "base_uri": "https://localhost:8080/"
        },
        "id": "U4i5PC4AiHHN",
        "outputId": "b1b69b6d-5ef3-4ac3-9b9b-20567f752960"
      },
      "execution_count": null,
      "outputs": [
        {
          "output_type": "stream",
          "name": "stdout",
          "text": [
            "13.6\n"
          ]
        }
      ]
    },
    {
      "cell_type": "code",
      "source": [
        "std_deviation = np.std(data)\n",
        "print(std_deviation)"
      ],
      "metadata": {
        "colab": {
          "base_uri": "https://localhost:8080/"
        },
        "id": "3RxJgePeiM1P",
        "outputId": "a4aba252-3fa3-44af-8911-ba5e3b96c0ae"
      },
      "execution_count": null,
      "outputs": [
        {
          "output_type": "stream",
          "name": "stdout",
          "text": [
            "3.687817782917155\n"
          ]
        }
      ]
    },
    {
      "cell_type": "code",
      "source": [
        "#covariance determines the strength or direction and correlation, covariance meASURES whether the variables\n",
        "#move together or in the opposite direction we have +ve and -ve covariance\n",
        "x = np.array([1, 2, 3, 4, 5])\n",
        "y = np.array([5, 4, 3, 2, 1])\n",
        "\n",
        "covariance = np.cov(x, y)\n",
        "print(covariance)\n",
        "\n",
        "correlation = np.corrcoef(x, y) # 0 indicates no relationship with the other\n",
        "print(correlation) #correlation does not mean causation\n",
        "#covariance and correlation are matrices because for instance we have the x,y\n",
        "#above, it goes multiplying xx, xy, yx, yy so it creates a matrix"
      ],
      "metadata": {
        "colab": {
          "base_uri": "https://localhost:8080/"
        },
        "id": "EJJfuQ-yjUxK",
        "outputId": "4349a3bb-6a37-44c2-c2f7-c0382d80f89d"
      },
      "execution_count": null,
      "outputs": [
        {
          "output_type": "stream",
          "name": "stdout",
          "text": [
            "[[ 2.5 -2.5]\n",
            " [-2.5  2.5]]\n",
            "[[ 1. -1.]\n",
            " [-1.  1.]]\n"
          ]
        }
      ]
    },
    {
      "cell_type": "code",
      "source": [
        "data = np.array([5, 6, 3, 4, 3, 4, 8, 8, 1, 8, 2])"
      ],
      "metadata": {
        "id": "nX4JLVIHyrRj"
      },
      "execution_count": null,
      "outputs": []
    },
    {
      "cell_type": "code",
      "source": [
        "#libraries for visualization\n",
        "from matplotlib import pyplot as plt"
      ],
      "metadata": {
        "id": "bR2hlL-AmH8Z"
      },
      "execution_count": null,
      "outputs": []
    },
    {
      "cell_type": "code",
      "source": [
        "import seaborn as sns"
      ],
      "metadata": {
        "id": "4BvStleN0kpT"
      },
      "execution_count": null,
      "outputs": []
    },
    {
      "cell_type": "code",
      "source": [
        "%matplotlib inline"
      ],
      "metadata": {
        "id": "n1Blx3aM0wIm"
      },
      "execution_count": null,
      "outputs": []
    },
    {
      "cell_type": "code",
      "source": [
        "plt.hist(data, bins=5)\n",
        "plt.xlable('data')\n",
        "plt.ylable('frequency')\n",
        "plt.tittle('counts, 5Bins')"
      ],
      "metadata": {
        "colab": {
          "base_uri": "https://localhost:8080/",
          "height": 631
        },
        "id": "OFxLc4idzICa",
        "outputId": "f200e8b6-d1d5-4e8c-a446-84dc93b813ab"
      },
      "execution_count": null,
      "outputs": [
        {
          "output_type": "error",
          "ename": "AttributeError",
          "evalue": "ignored",
          "traceback": [
            "\u001b[0;31m---------------------------------------------------------------------------\u001b[0m",
            "\u001b[0;31mAttributeError\u001b[0m                            Traceback (most recent call last)",
            "\u001b[0;32m<ipython-input-67-8ce3fbd93406>\u001b[0m in \u001b[0;36m<cell line: 2>\u001b[0;34m()\u001b[0m\n\u001b[1;32m      1\u001b[0m \u001b[0mplt\u001b[0m\u001b[0;34m.\u001b[0m\u001b[0mhist\u001b[0m\u001b[0;34m(\u001b[0m\u001b[0mdata\u001b[0m\u001b[0;34m,\u001b[0m \u001b[0mbins\u001b[0m\u001b[0;34m=\u001b[0m\u001b[0;36m5\u001b[0m\u001b[0;34m)\u001b[0m\u001b[0;34m\u001b[0m\u001b[0;34m\u001b[0m\u001b[0m\n\u001b[0;32m----> 2\u001b[0;31m \u001b[0mplt\u001b[0m\u001b[0;34m.\u001b[0m\u001b[0mxlable\u001b[0m\u001b[0;34m(\u001b[0m\u001b[0;34m'data'\u001b[0m\u001b[0;34m)\u001b[0m\u001b[0;34m\u001b[0m\u001b[0;34m\u001b[0m\u001b[0m\n\u001b[0m\u001b[1;32m      3\u001b[0m \u001b[0mplt\u001b[0m\u001b[0;34m.\u001b[0m\u001b[0mylable\u001b[0m\u001b[0;34m(\u001b[0m\u001b[0;34m'frequency'\u001b[0m\u001b[0;34m)\u001b[0m\u001b[0;34m\u001b[0m\u001b[0;34m\u001b[0m\u001b[0m\n\u001b[1;32m      4\u001b[0m \u001b[0mplt\u001b[0m\u001b[0;34m.\u001b[0m\u001b[0mtittle\u001b[0m\u001b[0;34m(\u001b[0m\u001b[0;34m'counts, 5Bins'\u001b[0m\u001b[0;34m)\u001b[0m\u001b[0;34m\u001b[0m\u001b[0;34m\u001b[0m\u001b[0m\n",
            "\u001b[0;31mAttributeError\u001b[0m: module 'matplotlib.pyplot' has no attribute 'xlable'"
          ]
        },
        {
          "output_type": "display_data",
          "data": {
            "text/plain": [
              "<Figure size 640x480 with 1 Axes>"
            ],
            "image/png": "[encoded data removed]"
          },
          "metadata": {}
        }
      ]
    },
    {
      "cell_type": "code",
      "source": [
        "#box plot represents interquartile range\n",
        "fig, ax = plt.subplots()\n",
        "ax.scatter(x, y)\n"
      ],
      "metadata": {
        "colab": {
          "base_uri": "https://localhost:8080/",
          "height": 447
        },
        "id": "hrpDG4Us1tEj",
        "outputId": "f2fcc1e7-5a91-4a37-833b-2627f3db0944"
      },
      "execution_count": null,
      "outputs": [
        {
          "output_type": "execute_result",
          "data": {
            "text/plain": [
              "<matplotlib.collections.PathCollection at 0x7f5f072c4880>"
            ]
          },
          "metadata": {},
          "execution_count": 68
        },
        {
          "output_type": "display_data",
          "data": {
            "text/plain": [
              "<Figure size 640x480 with 1 Axes>"
            ],
            "image/png": "[encoded data removed]"
          },
          "metadata": {}
        }
      ]
    },
    {
      "cell_type": "code",
      "source": [
        "sum_total = 0\n",
        "n = 5\n",
        "for i in range(1, n+1):\n",
        "    sum_total += i\n",
        "print(sum_total)"
      ],
      "metadata": {
        "colab": {
          "base_uri": "https://localhost:8080/"
        },
        "id": "kOZOTZJgAFQz",
        "outputId": "ea03a4d7-eacc-45a2-a00f-39d682634adc"
      },
      "execution_count": null,
      "outputs": [
        {
          "output_type": "stream",
          "name": "stdout",
          "text": [
            "15\n"
          ]
        }
      ]
    },
    {
      "cell_type": "code",
      "source": [
        "def f(x):\n",
        "    return x**2 - 2\n",
        "\n",
        "sum_total = 0\n",
        "n = 5\n",
        "for i in range(1, n+1):\n",
        "    sum_total += f(i)\n",
        "print(sum_total)\n",
        ""
      ],
      "metadata": {
        "colab": {
          "base_uri": "https://localhost:8080/"
        },
        "id": "bVt4Bl9jBDZV",
        "outputId": "ddfdb4aa-fe84-42c1-b10e-7394efaba261"
      },
      "execution_count": null,
      "outputs": [
        {
          "output_type": "stream",
          "name": "stdout",
          "text": [
            "45\n"
          ]
        }
      ]
    },
    {
      "cell_type": "code",
      "source": [
        "w = [2.2, 3, -2, 4]\n",
        "x = [0.25, 0, 1, -2]\n",
        "\n",
        "sum_total = 0\n",
        "\n",
        "for i in range(len(w)):\n",
        "    sum_total += w[i] * x[i]\n",
        "print(sum_total)"
      ],
      "metadata": {
        "colab": {
          "base_uri": "https://localhost:8080/"
        },
        "id": "g7Hc8XosBgWl",
        "outputId": "d9c8e1e4-46e0-4351-82ab-e8306bcad9f4"
      },
      "execution_count": null,
      "outputs": [
        {
          "output_type": "stream",
          "name": "stdout",
          "text": [
            "-9.45\n"
          ]
        }
      ]
    },
    {
      "cell_type": "code",
      "source": [
        "total = 1\n",
        "n = 5\n",
        "\n",
        "for i in range(1, n+1):\n",
        "    total *= i + 2\n",
        "print(total)"
      ],
      "metadata": {
        "colab": {
          "base_uri": "https://localhost:8080/"
        },
        "id": "6lC_Ks95FaCS",
        "outputId": "3e4b796e-21ba-4403-9927-5545ae9c2d17"
      },
      "execution_count": null,
      "outputs": [
        {
          "output_type": "stream",
          "name": "stdout",
          "text": [
            "2520\n"
          ]
        }
      ]
    },
    {
      "cell_type": "code",
      "source": [
        "x = 4\n",
        "type(x)"
      ],
      "metadata": {
        "id": "6Z8UNeVbDouW",
        "colab": {
          "base_uri": "https://localhost:8080/"
        },
        "outputId": "e9206c04-0929-4024-b4ba-c77df2fffbed"
      },
      "execution_count": null,
      "outputs": [
        {
          "output_type": "execute_result",
          "data": {
            "text/plain": [
              "int"
            ]
          },
          "metadata": {},
          "execution_count": 3
        }
      ]
    },
    {
      "cell_type": "code",
      "source": [
        "x = 7\n",
        "if (x % 3 == 0) and (x % 5 == 0):\n",
        "    print(\"FizzBuzz\")\n",
        "elif x % 3 == 0:\n",
        "    print(\"Fizz\")\n",
        "elif x % 5 == 0:\n",
        "    print(\"Buzz\")\n",
        "else:\n",
        "    print(x)"
      ],
      "metadata": {
        "colab": {
          "base_uri": "https://localhost:8080/"
        },
        "id": "PFDGGjJeQHvg",
        "outputId": "c7068b7a-41cb-40f8-de2b-f8ce525dfc3d"
      },
      "execution_count": null,
      "outputs": [
        {
          "output_type": "stream",
          "name": "stdout",
          "text": [
            "7\n"
          ]
        }
      ]
    },
    {
      "cell_type": "code",
      "source": [
        "x = None\n",
        "colors = [\"blue\", \"orange\", \"green\"]\n",
        "for color in colors:\n",
        "    if color.startswith(\"o\"):\n",
        "        x = color\n",
        "        print(x)"
      ],
      "metadata": {
        "colab": {
          "base_uri": "https://localhost:8080/"
        },
        "id": "XAebWGsJUC8-",
        "outputId": "5484bdcd-3e96-4117-a5b7-17d3e7d1ddbb"
      },
      "execution_count": null,
      "outputs": [
        {
          "output_type": "stream",
          "name": "stdout",
          "text": [
            "orange\n"
          ]
        }
      ]
    },
    {
      "cell_type": "code",
      "source": [
        "counties = [\n",
        "    {\"name\": \"Bronx\", \"statistical_area\": \"New York\"},\n",
        "    {\"name\": \"Cook\", \"statistical_area\": \"Chicago\"},\n",
        "    {\"name\": \"DuPage\", \"statistical_area\": \"Chicago\"},\n",
        "    {\"name\": \"King\", \"statistical_area\": \"Seattle\"},\n",
        "    {\"name\": \"New York\", \"statistical_area\": \"New York\"},\n",
        "    {\"name\": \"Pierce\", \"statistical_area\": \"Seattle\"},\n",
        "    {\"name\": \"Queens\", \"statistical_area\": \"New York\"},\n",
        "    {\"name\": \"Snohomish\", \"statistical_area\": \"Seattle\"},\n",
        "    {\"name\": \"Will\", \"statistical_area\": \"Chicago\"}\n",
        "]\n"
      ],
      "metadata": {
        "id": "-hNJI64WUapi"
      },
      "execution_count": null,
      "outputs": []
    },
    {
      "cell_type": "code",
      "source": [
        "print(counties[3][\"statistical_area\"] == \"Seattle\")"
      ],
      "metadata": {
        "colab": {
          "base_uri": "https://localhost:8080/"
        },
        "id": "sfqs8mIKV_6X",
        "outputId": "a96a1ce5-e85b-419f-a97a-1bfc24e4fb8d"
      },
      "execution_count": null,
      "outputs": [
        {
          "output_type": "stream",
          "name": "stdout",
          "text": [
            "True\n"
          ]
        }
      ]
    },
    {
      "cell_type": "code",
      "source": [
        "for county in counties:\n",
        "    county[\"name\"] = \"Seattle\"\n",
        "print(counties)\n",
        "type(counties)"
      ],
      "metadata": {
        "colab": {
          "base_uri": "https://localhost:8080/"
        },
        "id": "eUzt5ZCGV3rL",
        "outputId": "755bc8ba-a5b5-42af-93f7-545028b16361"
      },
      "execution_count": null,
      "outputs": [
        {
          "output_type": "stream",
          "name": "stdout",
          "text": [
            "[{'name': 'Seattle', 'statistical_area': 'New York'}, {'name': 'Seattle', 'statistical_area': 'Chicago'}, {'name': 'Seattle', 'statistical_area': 'Chicago'}, {'name': 'Seattle', 'statistical_area': 'Seattle'}, {'name': 'Seattle', 'statistical_area': 'New York'}, {'name': 'Seattle', 'statistical_area': 'Seattle'}, {'name': 'Seattle', 'statistical_area': 'New York'}, {'name': 'Seattle', 'statistical_area': 'Seattle'}, {'name': 'Seattle', 'statistical_area': 'Chicago'}]\n"
          ]
        },
        {
          "output_type": "execute_result",
          "data": {
            "text/plain": [
              "list"
            ]
          },
          "metadata": {},
          "execution_count": 38
        }
      ]
    },
    {
      "cell_type": "code",
      "source": [
        "seattle_county_names = []\n",
        "for county in counties:\n",
        "    seattle_county_names.append(county[\"name\"])\n",
        "print(seattle_county_names)"
      ],
      "metadata": {
        "colab": {
          "base_uri": "https://localhost:8080/"
        },
        "id": "gT1CKoD4VifY",
        "outputId": "16a923cc-7e73-49e7-f541-90d4a3afeea0"
      },
      "execution_count": null,
      "outputs": [
        {
          "output_type": "stream",
          "name": "stdout",
          "text": [
            "['Bronx', 'Cook', 'DuPage', 'King', 'New York', 'Pierce', 'Queens', 'Snohomish', 'Will']\n"
          ]
        }
      ]
    },
    {
      "cell_type": "code",
      "source": [
        "def one():\n",
        "    print(\"one\")\n",
        "\n",
        "def two():\n",
        "    return \"two\"\n",
        "\n",
        "def three():\n",
        "    one()\n",
        "    two()\n",
        "    print(\"three\")\n",
        "\n",
        "three()"
      ],
      "metadata": {
        "colab": {
          "base_uri": "https://localhost:8080/"
        },
        "id": "Y394LxvKW0uq",
        "outputId": "d4e1e8d0-93b7-40cb-91b9-053798139c89"
      },
      "execution_count": null,
      "outputs": [
        {
          "output_type": "stream",
          "name": "stdout",
          "text": [
            "one\n",
            "three\n"
          ]
        }
      ]
    },
    {
      "cell_type": "code",
      "source": [
        "def max_or_min(3,8,2,5, command)\n",
        "    if command == \"max\"\n",
        "        return numbers.max()\n",
        "    elsif command == \"min\"\n",
        "        return numbers.min()\n",
        "    end\n",
        "end\n",
        "\n",
        "#Sample1: [3,8,2,5].\"max\"\n",
        "#Sample output 1: 8\n",
        "\n",
        "#Sample2: [-4,2,9,-1].\"min\"\n",
        "#Sample output 2: -4\n"
      ],
      "metadata": {
        "colab": {
          "base_uri": "https://localhost:8080/",
          "height": 131
        },
        "id": "fRLhZzfTbhoD",
        "outputId": "de6855f6-fa61-4f55-f216-6b24cc0c7d8c"
      },
      "execution_count": null,
      "outputs": [
        {
          "output_type": "error",
          "ename": "SyntaxError",
          "evalue": "ignored",
          "traceback": [
            "\u001b[0;36m  File \u001b[0;32m\"<ipython-input-56-8b45639f131f>\"\u001b[0;36m, line \u001b[0;32m1\u001b[0m\n\u001b[0;31m    def max_or_min(3,8,2,5, command)\u001b[0m\n\u001b[0m                   ^\u001b[0m\n\u001b[0;31mSyntaxError\u001b[0m\u001b[0;31m:\u001b[0m invalid syntax\n"
          ]
        }
      ]
    },
    {
      "cell_type": "code",
      "source": [
        "seattle_county_names = []\n",
        "for county in counties:\n",
        "    if county[\"statistical_area\"] == \"Seattle\":\n",
        "        seattle_county_names.append(county[\"name\"])\n",
        "print(seattle_county_names)"
      ],
      "metadata": {
        "colab": {
          "base_uri": "https://localhost:8080/"
        },
        "id": "Bxx2Kgi6U7uc",
        "outputId": "75369199-cb91-430e-ff42-e4fd470650b5"
      },
      "execution_count": null,
      "outputs": [
        {
          "output_type": "stream",
          "name": "stdout",
          "text": [
            "['King', 'Pierce', 'Snohomish']\n"
          ]
        }
      ]
    },
    {
      "cell_type": "code",
      "source": [],
      "metadata": {
        "id": "rk24oL_4VhDv"
      },
      "execution_count": null,
      "outputs": []
    },
    {
      "cell_type": "code",
      "source": [
        "x = \"abcdefg\"[2:4]\n",
        "print(x)\n"
      ],
      "metadata": {
        "colab": {
          "base_uri": "https://localhost:8080/"
        },
        "id": "DW6CZBqVQeUt",
        "outputId": "e273b4b6-3646-4a9f-f0cb-f0fb6cd8f71f"
      },
      "execution_count": null,
      "outputs": [
        {
          "output_type": "stream",
          "name": "stdout",
          "text": [
            "cd\n"
          ]
        }
      ]
    },
    {
      "cell_type": "code",
      "source": [
        "x = [1, 2, 3, 4]\n",
        "x.append(7)\n",
        "print(x)"
      ],
      "metadata": {
        "colab": {
          "base_uri": "https://localhost:8080/"
        },
        "id": "PE1Rxtb6Qy2W",
        "outputId": "e306134c-62e1-4bfb-aaa7-c8574c7791d8"
      },
      "execution_count": null,
      "outputs": [
        {
          "output_type": "stream",
          "name": "stdout",
          "text": [
            "[1, 2, 3, 4, 7]\n"
          ]
        }
      ]
    }
  ]
}